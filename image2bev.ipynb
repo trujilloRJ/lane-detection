{
 "cells": [
  {
   "cell_type": "code",
   "execution_count": 2,
   "id": "4844b0a8",
   "metadata": {},
   "outputs": [],
   "source": [
    "import numpy as np\n",
    "import cv2\n",
    "\n",
    "def parse_calib_line(line):\n",
    "    return np.array([float(x) for x in line.strip().split(' ')[1:]])\n",
    "\n",
    "def to_homogeneous(mat3x4):\n",
    "    return np.vstack([mat3x4, [0, 0, 0, 1]])\n",
    "\n",
    "# ----- Calibration Data from KITTI -----\n",
    "P2 = parse_calib_line(\"P2: 7.215377e+02 0 6.095593e+02 4.485728e+01 0 7.215377e+02 1.728540e+02 2.163791e-01 0 0 1 2.745884e-03\").reshape(3, 4)\n",
    "R0_rect = parse_calib_line(\"R0_rect: 9.999239e-01 9.837760e-03 -7.445048e-03 -9.869795e-03 9.999421e-01 -4.278459e-03 7.402527e-03 4.351614e-03 9.999631e-01\").reshape(3, 3)\n",
    "Tr_cam_to_road = parse_calib_line(\"Tr_cam_to_road: 9.999045e-01 -1.170166e-02 -7.360827e-03 1.911985e-02 1.160252e-02 9.998433e-01 -1.336987e-02 -1.562198e+00 7.516123e-03 1.328319e-02 9.998835e-01 2.752776e-01\").reshape(3, 4)\n",
    "\n",
    "# Convert to 4x4 matrices\n",
    "P2 = to_homogeneous(P2)\n",
    "R0_rect_4x4 = np.eye(4)\n",
    "R0_rect_4x4[:3, :3] = R0_rect\n",
    "Tr_cam_to_road = to_homogeneous(Tr_cam_to_road)\n",
    "\n",
    "# Inverse projection matrix\n",
    "P2_inv = np.linalg.inv(P2 @ R0_rect_4x4)"
   ]
  },
  {
   "cell_type": "code",
   "execution_count": 10,
   "id": "44fbfe7d",
   "metadata": {},
   "outputs": [],
   "source": [
    "gt_folder = r\"data\\labels\"\n",
    "img_name = \"mask_um_lane_000000.png\"\n",
    "img = cv2.imread(f\"{gt_folder}/{img_name}\", cv2.IMREAD_UNCHANGED)\n",
    "img = cv2.cvtColor(255*img, cv2.COLOR_GRAY2BGR)\n",
    "\n",
    "# cv2.imshow(\"gt\", img)\n",
    "# cv2.waitKey(0)\n",
    "# cv2.destroyAllWindows()\n",
    "\n",
    "img = np.concatenate((img, 255*np.ones((*img.shape[:2], 1), dtype=img.dtype)), axis=-1)\n",
    "H, W, _ = img.shape"
   ]
  },
  {
   "cell_type": "code",
   "execution_count": 11,
   "id": "4afd9b98",
   "metadata": {},
   "outputs": [
    {
     "name": "stdout",
     "output_type": "stream",
     "text": [
      "BEV grid shape: (375, 1242, 2)\n",
      "BEV sample at center pixel: [-0.04072322 -1.56310464]\n"
     ]
    }
   ],
   "source": [
    "# ----- Step 2: Reshape and backproject -----\n",
    "pixels_flat = img.reshape(-1, 4).T  # shape (4, H*W)\n",
    "\n",
    "# ----- Step 3: Backproject to camera space -----\n",
    "rays_cam = P2_inv @ pixels_flat  # shape (4, H*W)\n",
    "rays_cam /= rays_cam[3, :]       # normalize homogeneous coords\n",
    "\n",
    "# ----- Step 4: Transform to road (BEV) frame -----\n",
    "rays_world = Tr_cam_to_road @ rays_cam  # shape (4, H*W)\n",
    "\n",
    "# ----- Step 5: Extract BEV coordinates -----\n",
    "bev_coords = rays_world[:2, :].T.reshape(H, W, 2)  # (H, W, 2)\n",
    "\n",
    "print(\"BEV grid shape:\", bev_coords.shape)\n",
    "print(\"BEV sample at center pixel:\", bev_coords[H//2, W//2])"
   ]
  },
  {
   "cell_type": "code",
   "execution_count": 13,
   "id": "8a52eaf7",
   "metadata": {},
   "outputs": [
    {
     "data": {
      "image/png": "[encoded data removed]",
      "text/plain": [
       "<Figure size 500x500 with 1 Axes>"
      ]
     },
     "metadata": {},
     "output_type": "display_data"
    }
   ],
   "source": [
    "import matplotlib.pyplot as plt\n",
    "\n",
    "# Extract X and Y coordinates\n",
    "x_coords = bev_coords[:, :, 0].flatten()\n",
    "y_coords = bev_coords[:, :, 1].flatten()\n",
    "\n",
    "# Plot the BEV\n",
    "plt.figure(figsize=(5, 5))\n",
    "plt.scatter(x_coords, y_coords, s=1, c='blue', alpha=0.5)\n",
    "plt.title(\"Bird's Eye View (BEV)\")\n",
    "plt.xlabel(\"X Coordinate\")\n",
    "plt.ylabel(\"Y Coordinate\")\n",
    "plt.axis('equal')\n",
    "plt.grid(True)\n",
    "plt.show()"
   ]
  }
 ],
 "metadata": {
  "kernelspec": {
   "display_name": "cv_tracking",
   "language": "python",
   "name": "python3"
  },
  "language_info": {
   "codemirror_mode": {
    "name": "ipython",
    "version": 3
   },
   "file_extension": ".py",
   "mimetype": "text/x-python",
   "name": "python",
   "nbconvert_exporter": "python",
   "pygments_lexer": "ipython3",
   "version": "3.12.7"
  }
 },
 "nbformat": 4,
 "nbformat_minor": 5
}
