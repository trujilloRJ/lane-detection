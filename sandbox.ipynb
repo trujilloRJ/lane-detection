{
 "cells": [
  {
   "cell_type": "code",
   "execution_count": 1,
   "id": "dcfcd14d",
   "metadata": {},
   "outputs": [],
   "source": [
    "import torch\n",
    "import torch.nn.functional as F\n",
    "from torch.utils.data import DataLoader, random_split\n",
    "from network import LaneDataset, LaneDetectionUNet"
   ]
  },
  {
   "cell_type": "code",
   "execution_count": null,
   "id": "01194cbe",
   "metadata": {},
   "outputs": [
    {
     "data": {
      "text/plain": [
       "'cuda'"
      ]
     },
     "execution_count": 2,
     "metadata": {},
     "output_type": "execute_result"
    }
   ],
   "source": [
    "DEVICE = torch.accelerator.current_accelerator().type if torch.accelerator.is_available() else \"cpu\"\n",
    "DEVICE"
   ]
  },
  {
   "cell_type": "code",
   "execution_count": 8,
   "id": "ac2b1f99",
   "metadata": {},
   "outputs": [],
   "source": [
    "import numpy as np\n",
    "def set_seed(seed=0):\n",
    "    # for reproductibility\n",
    "    torch.manual_seed(seed)\n",
    "    torch.cuda.manual_seed_all(seed)\n",
    "    np.random.seed(seed)\n",
    "    torch.backends.cudnn.deterministic = True"
   ]
  },
  {
   "cell_type": "code",
   "execution_count": null,
   "id": "e8751455",
   "metadata": {},
   "outputs": [
    {
     "name": "stdout",
     "output_type": "stream",
     "text": [
      "All training samples: 289\n"
     ]
    }
   ],
   "source": [
    "# Creating datasets\n",
    "img_folder = r\"C:\\javier\\personal_projects\\computer_vision\\data\\KITTI_road_segmentation\\data_road\\training\\image_2\"\n",
    "gt_folder = r\"data\\labels\"\n",
    "\n",
    "data = LaneDataset(img_folder, gt_folder)\n",
    "print(f\"All training samples: {len(data)}\")\n",
    "\n",
    "train_data, val_data = random_split(data, [200, 89])"
   ]
  },
  {
   "cell_type": "code",
   "execution_count": null,
   "id": "79110fdf",
   "metadata": {},
   "outputs": [
    {
     "name": "stdout",
     "output_type": "stream",
     "text": [
      "Training epoch 1/10\n",
      "   Batch 0 -> loss: 1.303\n",
      "   Batch 1 -> loss: 0.788\n",
      "   Batch 2 -> loss: 1.007\n",
      "   Batch 3 -> loss: 0.637\n",
      "   Batch 4 -> loss: 0.617\n",
      "   Batch 5 -> loss: 0.631\n",
      "   Batch 6 -> loss: 0.463\n",
      "Train loss: 0.778 | Validation loss: 0.481\n",
      "-----------------------------------------------------------------------\n",
      "Training epoch 2/10\n",
      "   Batch 0 -> loss: 0.561\n",
      "   Batch 1 -> loss: 0.461\n",
      "   Batch 2 -> loss: 0.546\n",
      "   Batch 3 -> loss: 0.500\n",
      "   Batch 4 -> loss: 0.451\n",
      "   Batch 5 -> loss: 0.531\n",
      "   Batch 6 -> loss: 0.502\n",
      "Train loss: 0.507 | Validation loss: 0.437\n",
      "-----------------------------------------------------------------------\n",
      "Training epoch 3/10\n",
      "   Batch 0 -> loss: 0.434\n",
      "   Batch 1 -> loss: 0.469\n",
      "   Batch 2 -> loss: 0.471\n",
      "   Batch 3 -> loss: 0.440\n",
      "   Batch 4 -> loss: 0.454\n",
      "   Batch 5 -> loss: 0.434\n",
      "   Batch 6 -> loss: 0.426\n",
      "Train loss: 0.447 | Validation loss: 0.426\n",
      "-----------------------------------------------------------------------\n",
      "Training epoch 4/10\n",
      "   Batch 0 -> loss: 0.409\n",
      "   Batch 1 -> loss: 0.394\n",
      "   Batch 2 -> loss: 0.459\n",
      "   Batch 3 -> loss: 0.413\n",
      "   Batch 4 -> loss: 0.443\n",
      "   Batch 5 -> loss: 0.424\n",
      "   Batch 6 -> loss: 0.384\n",
      "Train loss: 0.418 | Validation loss: 0.411\n",
      "-----------------------------------------------------------------------\n",
      "Training epoch 5/10\n",
      "   Batch 0 -> loss: 0.371\n",
      "   Batch 1 -> loss: 0.423\n",
      "   Batch 2 -> loss: 0.411\n",
      "   Batch 3 -> loss: 0.418\n",
      "   Batch 4 -> loss: 0.413\n",
      "   Batch 5 -> loss: 0.403\n",
      "   Batch 6 -> loss: 0.467\n",
      "Train loss: 0.415 | Validation loss: 0.414\n",
      "-----------------------------------------------------------------------\n",
      "Training epoch 6/10\n",
      "   Batch 0 -> loss: 0.411\n",
      "   Batch 1 -> loss: 0.397\n",
      "   Batch 2 -> loss: 0.367\n",
      "   Batch 3 -> loss: 0.375\n",
      "   Batch 4 -> loss: 0.438\n",
      "   Batch 5 -> loss: 0.401\n",
      "   Batch 6 -> loss: 0.374\n",
      "Train loss: 0.395 | Validation loss: 0.409\n",
      "-----------------------------------------------------------------------\n",
      "Training epoch 7/10\n",
      "   Batch 0 -> loss: 0.390\n",
      "   Batch 1 -> loss: 0.354\n",
      "   Batch 2 -> loss: 0.393\n",
      "   Batch 3 -> loss: 0.377\n",
      "   Batch 4 -> loss: 0.392\n",
      "   Batch 5 -> loss: 0.387\n",
      "   Batch 6 -> loss: 0.354\n",
      "Train loss: 0.378 | Validation loss: 0.400\n",
      "-----------------------------------------------------------------------\n",
      "Training epoch 8/10\n",
      "   Batch 0 -> loss: 0.393\n",
      "   Batch 1 -> loss: 0.378\n",
      "   Batch 2 -> loss: 0.392\n",
      "   Batch 3 -> loss: 0.342\n",
      "   Batch 4 -> loss: 0.357\n",
      "   Batch 5 -> loss: 0.338\n",
      "   Batch 6 -> loss: 0.374\n",
      "Train loss: 0.368 | Validation loss: 0.399\n",
      "-----------------------------------------------------------------------\n",
      "Training epoch 9/10\n",
      "   Batch 0 -> loss: 0.344\n",
      "   Batch 1 -> loss: 0.381\n",
      "   Batch 2 -> loss: 0.360\n",
      "   Batch 3 -> loss: 0.344\n",
      "   Batch 4 -> loss: 0.422\n",
      "   Batch 5 -> loss: 0.359\n",
      "   Batch 6 -> loss: 0.387\n",
      "Train loss: 0.371 | Validation loss: 0.388\n",
      "-----------------------------------------------------------------------\n",
      "Training epoch 10/10\n",
      "   Batch 0 -> loss: 0.341\n",
      "   Batch 1 -> loss: 0.339\n",
      "   Batch 2 -> loss: 0.360\n",
      "   Batch 3 -> loss: 0.345\n",
      "   Batch 4 -> loss: 0.347\n",
      "   Batch 5 -> loss: 0.383\n",
      "   Batch 6 -> loss: 0.388\n",
      "Train loss: 0.358 | Validation loss: 0.384\n",
      "-----------------------------------------------------------------------\n"
     ]
    }
   ],
   "source": [
    "set_seed(0)\n",
    "n_epochs = 10\n",
    "lr = 0.001\n",
    "batch_size = 32\n",
    "\n",
    "train_loader = DataLoader(train_data, batch_size=batch_size, shuffle=True)\n",
    "val_loader = DataLoader(val_data, batch_size=batch_size, shuffle=True)\n",
    "\n",
    "model = LaneDetectionUNet()\n",
    "\n",
    "# not enough memory in CUDA :(\n",
    "# model.to(DEVICE)\n",
    "\n",
    "loss_fn = F.binary_cross_entropy_with_logits\n",
    "\n",
    "optimizer = torch.optim.Adam(model.parameters(), lr = lr)\n",
    "\n",
    "for epoch in range(n_epochs):\n",
    "    print(f\"Training epoch {epoch + 1}/{n_epochs}\")\n",
    "    model.train()\n",
    "    epoch_tr_loss = 0.\n",
    "    for b, batch in enumerate(train_loader):\n",
    "        img, label = batch\n",
    "\n",
    "        optimizer.zero_grad()\n",
    "\n",
    "        logits = model(img)\n",
    "        \n",
    "        loss = loss_fn(logits, label)\n",
    "        epoch_tr_loss += loss.item()\n",
    "        loss.backward()\n",
    "\n",
    "        optimizer.step()\n",
    "        print(f\"   Batch {b} -> loss: {loss.item():.3f}\")\n",
    "    epoch_tr_loss /= (b + 1)\n",
    "\n",
    "    # validation round\n",
    "    model.eval()\n",
    "    epoch_val_loss = 0.\n",
    "    with torch.no_grad():\n",
    "        for b, (img, label) in enumerate(val_loader):\n",
    "            logits = model(img)\n",
    "            loss = loss_fn(logits, label)\n",
    "            epoch_val_loss += loss.item()\n",
    "    epoch_val_loss /= (b + 1)\n",
    "\n",
    "    if ((epoch > 0) & (epoch % 3 == 0)) | (epoch == n_epochs):\n",
    "        torch.save(model.state_dict(), f\"checkpoints/shallowUNET_ep{epoch}.pth\")\n",
    "\n",
    "    print(f\"Train loss: {epoch_tr_loss:.3f} | Validation loss: {epoch_val_loss:.3f}\")\n",
    "    print(f\"-----------------------------------------------------------------------\")"
   ]
  },
  {
   "cell_type": "code",
   "execution_count": 21,
   "id": "2d070c4f",
   "metadata": {},
   "outputs": [],
   "source": [
    "img_folder = r\"C:\\javier\\personal_projects\\computer_vision\\data\\KITTI_road_segmentation\\data_road\\training\\image_2\"\n",
    "gt_folder = r\"data\\labels\"\n",
    "\n",
    "dataset = LaneDataset(img_folder, gt_folder)\n",
    "\n",
    "model = LaneDetectionUNet()\n",
    "model.load_state_dict(torch.load(\"checkpoints/shallowUNET_ep9.pth\"))\n",
    "model.eval()\n",
    "\n",
    "img, gt = dataset[0]\n",
    "img = img[None, :, :, :]\n",
    "pred = model(img)\n",
    "pred = np.uint8(255*F.sigmoid(pred).squeeze().detach().numpy())"
   ]
  },
  {
   "cell_type": "code",
   "execution_count": null,
   "id": "747a15c7",
   "metadata": {},
   "outputs": [
    {
     "ename": "",
     "evalue": "",
     "output_type": "error",
     "traceback": [
      "\u001b[1;31mThe Kernel crashed while executing code in the current cell or a previous cell. \n",
      "\u001b[1;31mPlease review the code in the cell(s) to identify a possible cause of the failure. \n",
      "\u001b[1;31mClick <a href='https://aka.ms/vscodeJupyterKernelCrash'>here</a> for more info. \n",
      "\u001b[1;31mView Jupyter <a href='command:jupyter.viewOutput'>log</a> for further details."
     ]
    }
   ],
   "source": [
    "import cv2\n",
    "cv2.imshow(\"Pred\", pred)"
   ]
  }
 ],
 "metadata": {
  "kernelspec": {
   "display_name": "cv_tracking",
   "language": "python",
   "name": "python3"
  },
  "language_info": {
   "codemirror_mode": {
    "name": "ipython",
    "version": 3
   },
   "file_extension": ".py",
   "mimetype": "text/x-python",
   "name": "python",
   "nbconvert_exporter": "python",
   "pygments_lexer": "ipython3",
   "version": "3.12.7"
  }
 },
 "nbformat": 4,
 "nbformat_minor": 5
}
